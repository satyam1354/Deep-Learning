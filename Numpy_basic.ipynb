{
  "nbformat": 4,
  "nbformat_minor": 0,
  "metadata": {
    "colab": {
      "provenance": [],
      "authorship_tag": "ABX9TyNUkk9V86wqYhFvfd4IePH6",
      "include_colab_link": true
    },
    "kernelspec": {
      "name": "python3",
      "display_name": "Python 3"
    },
    "language_info": {
      "name": "python"
    }
  },
  "cells": [
    {
      "cell_type": "markdown",
      "metadata": {
        "id": "view-in-github",
        "colab_type": "text"
      },
      "source": [
        "<a href=\"https://colab.research.google.com/github/satyam1354/Tensorflow/blob/main/Numpy_basic.ipynb\" target=\"_parent\"><img src=\"https://colab.research.google.com/assets/colab-badge.svg\" alt=\"Open In Colab\"/></a>"
      ]
    },
    {
      "cell_type": "code",
      "execution_count": null,
      "metadata": {
        "colab": {
          "base_uri": "https://localhost:8080/"
        },
        "id": "QVz7HU0uGya2",
        "outputId": "58ee61bb-b196-44b0-eaea-b93fe2d500be"
      },
      "outputs": [
        {
          "output_type": "stream",
          "name": "stdout",
          "text": [
            "list calculation =  0.16332450500001983\n",
            "np.dot =  0.0013996330000054513\n",
            "ratio =  116.69095041298948\n"
          ]
        }
      ],
      "source": [
        "import numpy as np\n",
        "# speed taste\n",
        "from timeit import default_timer as timer\n",
        "a = np.random.randn(1000)\n",
        "b = np.random.randn(1000)\n",
        "A = list(a)\n",
        "B = list(b)\n",
        "T = 1000\n",
        "def dot1():\n",
        "    dot = 0\n",
        "    for i in range(len(A)):\n",
        "        dot += A[i]*B[i]\n",
        "    return dot\n",
        "def dot2():\n",
        "    return np.dot(a,b)\n",
        "start = timer()\n",
        "for t in range(T):\n",
        "    dot1()\n",
        "end = timer()\n",
        "t1 = end-start\n",
        "\n",
        "start = timer()\n",
        "for t in range(T):\n",
        "    dot2()\n",
        "end = timer()\n",
        "t2 = end-start\n",
        "print('list calculation = ', t1)\n",
        "print('np.dot = ',t2)\n",
        "print('ratio = ',t1/t2)\n",
        "\n",
        "\n",
        "\n",
        "\n"
      ]
    },
    {
      "cell_type": "code",
      "source": [
        "\n",
        "list1 = [1,2,3,4,5]\n",
        "list2 = [6,7,8,9,10]\n",
        "a=np.array(list1)\n",
        "b=np.array(list2)\n",
        "list1 = list1 + [9]\n",
        "# list1 = list1 * 2\n",
        "# print(dot3)"
      ],
      "metadata": {
        "id": "ajiW-FZyd1pm"
      },
      "execution_count": null,
      "outputs": []
    },
    {
      "cell_type": "code",
      "source": [
        "a=a + np.array([9])\n",
        "a=a*2\n",
        "s =np.sqrt(a)\n",
        "l =np.log(a)\n",
        "sum = a @ b\n",
        "dot = np.dot(a,b)\n",
        "sum1 = a + b\n",
        "sum2 = a * b\n",
        "dot2 = np.sum(sum2)\n",
        "dot3 = (a*b).sum()\n",
        "print(list1)\n",
        "print(a)\n",
        "print(s)\n",
        "print(l)\n",
        "print(sum1)\n",
        "print(sum2)\n",
        "print(sum)\n",
        "print(dot)\n",
        "print(dot2)"
      ],
      "metadata": {
        "colab": {
          "base_uri": "https://localhost:8080/"
        },
        "id": "zZRrp1_zdlTS",
        "outputId": "049514c8-cb31-461d-e7c3-f58e3700dcb6"
      },
      "execution_count": null,
      "outputs": [
        {
          "output_type": "stream",
          "name": "stdout",
          "text": [
            "[1, 2, 3, 4, 5, 9]\n",
            "[20 22 24 26 28]\n",
            "[4.47213595 4.69041576 4.89897949 5.09901951 5.29150262]\n",
            "[2.99573227 3.09104245 3.17805383 3.25809654 3.33220451]\n",
            "[26 29 32 35 38]\n",
            "[120 154 192 234 280]\n",
            "980\n",
            "980\n",
            "980\n"
          ]
        }
      ]
    },
    {
      "cell_type": "code",
      "source": [
        "a = np.array([[1,2],[3,4]])\n",
        "print(a)\n",
        "print(a.shape)\n",
        "print(a[0,0])\n",
        "print(a[:,0])   #  :=> column\n",
        "print(a[0,:])\n",
        "print(np.linalg.inv(a))\n",
        "print(np.linalg.det(a)) #determinant\n",
        "c = np.diag(a)\n",
        "print(np.diag(a))   #diagonal\n",
        "print(np.diag(c))   #diagonal array\n"
      ],
      "metadata": {
        "colab": {
          "base_uri": "https://localhost:8080/"
        },
        "id": "wcVRS1vidlkZ",
        "outputId": "66dcf258-ee42-44d4-bb27-281d6a2911d1"
      },
      "execution_count": null,
      "outputs": [
        {
          "output_type": "stream",
          "name": "stdout",
          "text": [
            "[[1 2]\n",
            " [3 4]]\n",
            "(2, 2)\n",
            "1\n",
            "[1 3]\n",
            "[1 2]\n",
            "[[-2.   1. ]\n",
            " [ 1.5 -0.5]]\n",
            "-2.0000000000000004\n",
            "[1 4]\n",
            "[[1 0]\n",
            " [0 4]]\n"
          ]
        }
      ]
    },
    {
      "cell_type": "code",
      "source": [
        "\n",
        "a = np.array([10,20,35,40,55,60,70])\n",
        "b = [1,3,5]\n",
        "print(a[b])  #print b index element\n",
        "even =np.argwhere(a%2==0).flatten()\n",
        "print(a[even])\n"
      ],
      "metadata": {
        "colab": {
          "base_uri": "https://localhost:8080/"
        },
        "id": "owD9lDHrdlsp",
        "outputId": "8964d077-2dd6-4706-f986-6bc83ff883cc"
      },
      "execution_count": null,
      "outputs": [
        {
          "output_type": "stream",
          "name": "stdout",
          "text": [
            "[20 40 60]\n",
            "[10 20 40 60 70]\n"
          ]
        }
      ]
    },
    {
      "cell_type": "code",
      "source": [
        "a = np.arange(1,7)\n",
        "print(a)\n",
        "print(a.shape)\n",
        "b = a.reshape((2,3))\n",
        "b = a[np.newaxis , :]\n",
        "b = a[: , np.newaxis]\n",
        "print(b.shape)\n",
        "print(b)"
      ],
      "metadata": {
        "colab": {
          "base_uri": "https://localhost:8080/"
        },
        "id": "Va-ALmgCdlzp",
        "outputId": "fb8d2bdb-0c09-40a2-b352-d12adf12b31b"
      },
      "execution_count": null,
      "outputs": [
        {
          "output_type": "stream",
          "name": "stdout",
          "text": [
            "[1 2 3 4 5 6]\n",
            "(6,)\n",
            "(6, 1)\n",
            "[[1]\n",
            " [2]\n",
            " [3]\n",
            " [4]\n",
            " [5]\n",
            " [6]]\n"
          ]
        }
      ]
    },
    {
      "cell_type": "code",
      "source": [],
      "metadata": {
        "id": "EY1ctfP1dl7U"
      },
      "execution_count": null,
      "outputs": []
    }
  ]
}